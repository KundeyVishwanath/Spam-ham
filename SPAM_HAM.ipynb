{
  "nbformat": 4,
  "nbformat_minor": 0,
  "metadata": {
    "colab": {
      "name": "SPAM-HAM.ipynb",
      "provenance": [],
      "include_colab_link": true
    },
    "kernelspec": {
      "name": "python3",
      "display_name": "Python 3"
    },
    "language_info": {
      "name": "python"
    }
  },
  "cells": [
    {
      "cell_type": "markdown",
      "metadata": {
        "id": "view-in-github",
        "colab_type": "text"
      },
      "source": [
        "<a href=\"https://colab.research.google.com/github/KundeyVishwanath/Spam-ham/blob/main/SPAM_HAM.ipynb\" target=\"_parent\"><img src=\"https://colab.research.google.com/assets/colab-badge.svg\" alt=\"Open In Colab\"/></a>"
      ]
    },
    {
      "cell_type": "markdown",
      "metadata": {
        "id": "NQnq4lgP78Ob"
      },
      "source": [
        "IMPORTING NECESSARY LIBRARIES"
      ]
    },
    {
      "cell_type": "code",
      "metadata": {
        "id": "zIaIPLvtyP5r"
      },
      "source": [
        "import numpy as np\n",
        "import matplotlib.pyplot as plt\n",
        "import seaborn as sns\n",
        "import pandas as pd"
      ],
      "execution_count": null,
      "outputs": []
    },
    {
      "cell_type": "code",
      "metadata": {
        "id": "J9luL2jxyYrL"
      },
      "source": [
        "#Ignoring warnings\n",
        "import warnings\n",
        "warnings.filterwarnings(\"ignore\")"
      ],
      "execution_count": null,
      "outputs": []
    },
    {
      "cell_type": "markdown",
      "metadata": {
        "id": "ZhYBSaiJ8Ka5"
      },
      "source": [
        "LOADING DATASET AND UNDERSTANDING"
      ]
    },
    {
      "cell_type": "code",
      "metadata": {
        "id": "y2LbsWk_yeIq",
        "colab": {
          "base_uri": "https://localhost:8080/"
        },
        "outputId": "5995d919-08ef-4eb9-b002-e8f74bb8b538"
      },
      "source": [
        "x=pd.read_csv(\"spam.csv\",engine=\"python\")\n",
        "x.head()\n",
        "x[\"v1\"].value_counts()"
      ],
      "execution_count": null,
      "outputs": [
        {
          "output_type": "execute_result",
          "data": {
            "text/plain": [
              "ham     4825\n",
              "spam     745\n",
              "Name: v1, dtype: int64"
            ]
          },
          "metadata": {
            "tags": []
          },
          "execution_count": 78
        }
      ]
    },
    {
      "cell_type": "code",
      "metadata": {
        "id": "8Sk3vNs7yzFl"
      },
      "source": [
        "#Assigning predicting(mail) and result(mail_class) variables\n",
        "mail_class=x[\"v1\"]\n",
        "mail=x[\"v2\"]"
      ],
      "execution_count": null,
      "outputs": []
    },
    {
      "cell_type": "code",
      "metadata": {
        "id": "63qrkNLZ02Oy"
      },
      "source": [
        "#converting into numeric data\n",
        "mail_dict={\"spam\":\"1\",\"ham\":\"0\"}\n",
        "mail_class=mail_class.map(mail_dict)"
      ],
      "execution_count": null,
      "outputs": []
    },
    {
      "cell_type": "code",
      "metadata": {
        "id": "9GqAJv4C0ClP"
      },
      "source": [
        "#splitting data into training and testing sets\n",
        "from sklearn.model_selection import train_test_split\n",
        "x_train,x_test,y_train,y_test=train_test_split(mail,mail_class,test_size=0.1,stratify=mail_class)"
      ],
      "execution_count": null,
      "outputs": []
    },
    {
      "cell_type": "markdown",
      "metadata": {
        "id": "cY_xE0AF9MzT"
      },
      "source": [
        "VECTORIZING THE TEXT DATA FOR BETTER ACCURACY"
      ]
    },
    {
      "cell_type": "code",
      "metadata": {
        "id": "qZIb-xiY1Z1r"
      },
      "source": [
        "from sklearn.feature_extraction.text import TfidfVectorizer\n",
        "vectorizer=TfidfVectorizer(min_df=1,stop_words=\"english\",lowercase=\"True\")\n",
        "x_train_new=vectorizer.fit_transform(x_train)\n",
        "x_test_new=vectorizer.transform(x_test)"
      ],
      "execution_count": null,
      "outputs": []
    },
    {
      "cell_type": "code",
      "metadata": {
        "id": "BiO6GsuV2Fq6"
      },
      "source": [
        "#making sure that the data is in integer format\n",
        "y_train=y_train.astype(\"int\")\n",
        "y_test=y_test.astype(\"int\")"
      ],
      "execution_count": null,
      "outputs": []
    },
    {
      "cell_type": "markdown",
      "metadata": {
        "id": "yrbUza-P94dT"
      },
      "source": [
        "GRABBING TYPE OF MAIL"
      ]
    },
    {
      "cell_type": "code",
      "metadata": {
        "id": "wJGTefzh26MU"
      },
      "source": [
        "#because we converted result variable into numeric data\n",
        "def get_type_mail(number):\n",
        "  if number==0:\n",
        "    return \"ham\"\n",
        "  else:\n",
        "    return \"spam\""
      ],
      "execution_count": null,
      "outputs": []
    },
    {
      "cell_type": "markdown",
      "metadata": {
        "id": "I6B7pgqn-TXa"
      },
      "source": [
        "LINEAR SUPPORT VECTOR MACHINES"
      ]
    },
    {
      "cell_type": "code",
      "metadata": {
        "colab": {
          "base_uri": "https://localhost:8080/",
          "height": 35
        },
        "id": "rv57qx-j2X7t",
        "outputId": "3c7a7fda-a13d-4bec-bd2c-c33844dc0344"
      },
      "source": [
        "from sklearn.svm import LinearSVC\n",
        "clf_csv=LinearSVC()\n",
        "clf_csv.fit(x_train_new,y_train)\n",
        "\n",
        "#predicting the testing data\n",
        "y_pred=clf_csv.predict(x_test_new)\n",
        "\n",
        "#calculating accuracy\n",
        "from sklearn.metrics import accuracy_score\n",
        "#multiplying with hundred for converting it interms of percentage(%)\n",
        "clf_svc_score=accuracy_score(y_test,y_pred)*100\n",
        "\n",
        "#predicting a random sample,whether it is a spam mail or a ham mail\n",
        "new_pred=clf_csv.predict(vectorizer.transform([\"Free entry in 2 a wkly comp to win FA Cup final tkts 21st May 2005. Text FA to 87121 to receive entry question(std txt rate)T&C's apply 08452810075over18's\t\"]))\n",
        "get_type_mail(new_pred)"
      ],
      "execution_count": null,
      "outputs": [
        {
          "output_type": "execute_result",
          "data": {
            "application/vnd.google.colaboratory.intrinsic+json": {
              "type": "string"
            },
            "text/plain": [
              "'spam'"
            ]
          },
          "metadata": {
            "tags": []
          },
          "execution_count": 85
        }
      ]
    },
    {
      "cell_type": "markdown",
      "metadata": {
        "id": "ZENNwjM9_f8_"
      },
      "source": [
        "LOGISTIC REGRESSION"
      ]
    },
    {
      "cell_type": "code",
      "metadata": {
        "colab": {
          "base_uri": "https://localhost:8080/",
          "height": 35
        },
        "id": "-yZLsmqm_aMZ",
        "outputId": "d58b96d9-88d2-4ec8-ac63-8d2440bef3b9"
      },
      "source": [
        "from sklearn.linear_model import LogisticRegression\n",
        "clf_log_reg=LogisticRegression()\n",
        "clf_log_reg.fit(x_train_new,y_train)\n",
        "\n",
        "#predicting the testing data\n",
        "y_pred=clf_log_reg.predict(x_test_new)\n",
        "\n",
        "#calculating accuracy\n",
        "from sklearn.metrics import accuracy_score\n",
        "#multiplying with hundred for converting it interms of percentage(%)\n",
        "clf_log_reg_score=accuracy_score(y_test,y_pred)*100\n",
        "\n",
        "#predicting a random sample,whether it is a spam mail or a ham mail\n",
        "new_pred=clf_log_reg.predict(vectorizer.transform([\"Free entry in 2 a wkly comp to win FA Cup final tkts 21st May 2005. Text FA to 87121 to receive entry question(std txt rate)T&C's apply 08452810075over18's\t\"]))\n",
        "get_type_mail(new_pred)\n"
      ],
      "execution_count": null,
      "outputs": [
        {
          "output_type": "execute_result",
          "data": {
            "application/vnd.google.colaboratory.intrinsic+json": {
              "type": "string"
            },
            "text/plain": [
              "'spam'"
            ]
          },
          "metadata": {
            "tags": []
          },
          "execution_count": 86
        }
      ]
    },
    {
      "cell_type": "markdown",
      "metadata": {
        "id": "NQMSDwMgAi3Y"
      },
      "source": [
        "K NEAREST NEIGHBORS"
      ]
    },
    {
      "cell_type": "code",
      "metadata": {
        "colab": {
          "base_uri": "https://localhost:8080/",
          "height": 35
        },
        "id": "k0vkJBHLAJwO",
        "outputId": "cf363f73-cbc6-48d2-8f64-47eed7865cc8"
      },
      "source": [
        "from sklearn.neighbors import KNeighborsClassifier\n",
        "clf_knn=KNeighborsClassifier()\n",
        "clf_knn.fit(x_train_new,y_train)\n",
        "\n",
        "#predicting the testing data\n",
        "y_pred=clf_knn.predict(x_test_new)\n",
        "\n",
        "#calculating accuracy\n",
        "from sklearn.metrics import accuracy_score\n",
        "#multiplying with hundred for converting it interms of percentage(%)\n",
        "clf_knn_score=accuracy_score(y_test,y_pred)*100\n",
        "\n",
        "#predicting a random sample,whether it is a spam mail or a ham mail\n",
        "new_pred=clf_knn.predict(vectorizer.transform([\"Free entry in 2 a wkly comp to win FA Cup final tkts 21st May 2005. Text FA to 87121 to receive entry question(std txt rate)T&C's apply 08452810075over18's\t\"]))\n",
        "get_type_mail(new_pred)\n"
      ],
      "execution_count": null,
      "outputs": [
        {
          "output_type": "execute_result",
          "data": {
            "application/vnd.google.colaboratory.intrinsic+json": {
              "type": "string"
            },
            "text/plain": [
              "'ham'"
            ]
          },
          "metadata": {
            "tags": []
          },
          "execution_count": 87
        }
      ]
    },
    {
      "cell_type": "markdown",
      "metadata": {
        "id": "8E0-IabdAmyQ"
      },
      "source": [
        "\n",
        "VISUALIZATION OF ALGORITHMS USED"
      ]
    },
    {
      "cell_type": "code",
      "metadata": {
        "colab": {
          "base_uri": "https://localhost:8080/",
          "height": 320
        },
        "id": "FSQ8jqm9AhdX",
        "outputId": "3f150800-d76c-4c9e-acc3-a935ee18c333"
      },
      "source": [
        "plt.figure(figsize=(9,5))\n",
        "models=[\"SUPPORT VECTOR MACHINES\",\"LOGISTIC REGRESSION\",\"K NEAREST NEIGHBORS\"]\n",
        "numbers=[clf_svc_score,clf_log_reg_score,clf_knn_score]\n",
        "plt.bar(models,numbers)\n",
        "plt.show()"
      ],
      "execution_count": null,
      "outputs": [
        {
          "output_type": "display_data",
          "data": {
            "image/png": "[encoded data removed]",
            "text/plain": [
              "<Figure size 648x360 with 1 Axes>"
            ]
          },
          "metadata": {
            "tags": [],
            "needs_background": "light"
          }
        }
      ]
    },
    {
      "cell_type": "markdown",
      "metadata": {
        "id": "KwHJ_mrYBkQi"
      },
      "source": [
        "From the above bar graph,we can clearly say that SUPPOT VECTOR MACHINES best suits the problem"
      ]
    }
  ]
}